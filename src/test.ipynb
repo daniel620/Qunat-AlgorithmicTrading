{
 "cells": [
  {
   "cell_type": "code",
   "execution_count": 1,
   "metadata": {},
   "outputs": [],
   "source": [
    "import pandas as pd\n",
    "import tushare as ts\n",
    "import numpy as np\n",
    "import matplotlib.pyplot as plt\n",
    "\"\"\"\n",
    "Draw Chinese characters on plot pics\n",
    "\"\"\"\n",
    "plt.rcParams['font.sans-serif'] = ['Arial Unicode MS'] # 用来正常显示中文标签\n",
    "plt.rcParams['axes.unicode_minus'] = False  # 用来正常显示负号\n",
    "\"\"\"\n",
    "Read washed data\n",
    "\"\"\"\n",
    "df_AH = pd.read_excel('../data/df_AH_week.xlsx')"
   ]
  },
  {
   "cell_type": "code",
   "execution_count": 33,
   "metadata": {},
   "outputs": [
    {
     "name": "stderr",
     "output_type": "stream",
     "text": [
      "/Users/kuzaowuwei/opt/anaconda3/lib/python3.7/site-packages/ipykernel_launcher.py:4: SettingWithCopyWarning: \n",
      "A value is trying to be set on a copy of a slice from a DataFrame.\n",
      "Try using .loc[row_indexer,col_indexer] = value instead\n",
      "\n",
      "See the caveats in the documentation: https://pandas.pydata.org/pandas-docs/stable/user_guide/indexing.html#returning-a-view-versus-a-copy\n",
      "  after removing the cwd from sys.path.\n"
     ]
    }
   ],
   "source": [
    "from ou_noise import ou\n",
    "df_test = df_AH[['time','招商银行','招商银行.1','week_num']]\n",
    "df_test.columns = ['time','A','H','week_num']\n",
    "df_test['DR'] =1 - (df_test['H'].copy())/df_test['A'].copy()\n",
    "week_list = df_test.groupby('week_num').week_num.agg(lambda x : x.mode()[0]).values\n",
    "# ou_weekly[i][0] = 1 if this week isnot missed else missed\n",
    "ou_weekly = np.zeros((max(week_list)+1,4))\n",
    "for w in week_list:\n",
    "    # print(w)\n",
    "    DR = df_test[df_test['week_num']==w]['DR'].values\n",
    "    t = np.arange(1,len(DR)+1,1)\n",
    "    ou_weekly[w][0] = 1\n",
    "    ou_weekly[w][1:] = ou.mle(t,DR)\n"
   ]
  },
  {
   "cell_type": "code",
   "execution_count": 65,
   "metadata": {},
   "outputs": [
    {
     "data": {
      "text/html": [
       "<div>\n",
       "<style scoped>\n",
       "    .dataframe tbody tr th:only-of-type {\n",
       "        vertical-align: middle;\n",
       "    }\n",
       "\n",
       "    .dataframe tbody tr th {\n",
       "        vertical-align: top;\n",
       "    }\n",
       "\n",
       "    .dataframe thead th {\n",
       "        text-align: right;\n",
       "    }\n",
       "</style>\n",
       "<table border=\"1\" class=\"dataframe\">\n",
       "  <thead>\n",
       "    <tr style=\"text-align: right;\">\n",
       "      <th></th>\n",
       "      <th>time</th>\n",
       "      <th>A</th>\n",
       "      <th>H</th>\n",
       "      <th>week_num</th>\n",
       "      <th>DR</th>\n",
       "      <th>return_speed</th>\n",
       "      <th>mean</th>\n",
       "      <th>std</th>\n",
       "    </tr>\n",
       "  </thead>\n",
       "  <tbody>\n",
       "    <tr>\n",
       "      <th>968</th>\n",
       "      <td>2021-01-08 09:30:00</td>\n",
       "      <td>7.031742</td>\n",
       "      <td>6.780212</td>\n",
       "      <td>2</td>\n",
       "      <td>0.035771</td>\n",
       "      <td>0.007118</td>\n",
       "      <td>0.041558</td>\n",
       "      <td>0.001835</td>\n",
       "    </tr>\n",
       "    <tr>\n",
       "      <th>969</th>\n",
       "      <td>2021-01-08 09:31:00</td>\n",
       "      <td>7.040792</td>\n",
       "      <td>6.751853</td>\n",
       "      <td>2</td>\n",
       "      <td>0.041038</td>\n",
       "      <td>0.007118</td>\n",
       "      <td>0.041558</td>\n",
       "      <td>0.001835</td>\n",
       "    </tr>\n",
       "    <tr>\n",
       "      <th>970</th>\n",
       "      <td>2021-01-08 09:32:00</td>\n",
       "      <td>7.003084</td>\n",
       "      <td>6.741541</td>\n",
       "      <td>2</td>\n",
       "      <td>0.037347</td>\n",
       "      <td>0.007118</td>\n",
       "      <td>0.041558</td>\n",
       "      <td>0.001835</td>\n",
       "    </tr>\n",
       "    <tr>\n",
       "      <th>971</th>\n",
       "      <td>2021-01-08 09:33:00</td>\n",
       "      <td>7.043809</td>\n",
       "      <td>6.764743</td>\n",
       "      <td>2</td>\n",
       "      <td>0.039619</td>\n",
       "      <td>0.007118</td>\n",
       "      <td>0.041558</td>\n",
       "      <td>0.001835</td>\n",
       "    </tr>\n",
       "    <tr>\n",
       "      <th>972</th>\n",
       "      <td>2021-01-08 09:34:00</td>\n",
       "      <td>7.058892</td>\n",
       "      <td>6.758298</td>\n",
       "      <td>2</td>\n",
       "      <td>0.042584</td>\n",
       "      <td>0.007118</td>\n",
       "      <td>0.041558</td>\n",
       "      <td>0.001835</td>\n",
       "    </tr>\n",
       "    <tr>\n",
       "      <th>...</th>\n",
       "      <td>...</td>\n",
       "      <td>...</td>\n",
       "      <td>...</td>\n",
       "      <td>...</td>\n",
       "      <td>...</td>\n",
       "      <td>...</td>\n",
       "      <td>...</td>\n",
       "      <td>...</td>\n",
       "    </tr>\n",
       "    <tr>\n",
       "      <th>56623</th>\n",
       "      <td>2021-12-31 14:56:00</td>\n",
       "      <td>7.659205</td>\n",
       "      <td>7.765917</td>\n",
       "      <td>52</td>\n",
       "      <td>-0.013932</td>\n",
       "      <td>0.038932</td>\n",
       "      <td>-0.010072</td>\n",
       "      <td>0.001253</td>\n",
       "    </tr>\n",
       "    <tr>\n",
       "      <th>56624</th>\n",
       "      <td>2021-12-31 14:57:00</td>\n",
       "      <td>7.654492</td>\n",
       "      <td>7.765917</td>\n",
       "      <td>52</td>\n",
       "      <td>-0.014557</td>\n",
       "      <td>0.038932</td>\n",
       "      <td>-0.010072</td>\n",
       "      <td>0.001253</td>\n",
       "    </tr>\n",
       "    <tr>\n",
       "      <th>56625</th>\n",
       "      <td>2021-12-31 14:58:00</td>\n",
       "      <td>7.654492</td>\n",
       "      <td>7.765917</td>\n",
       "      <td>52</td>\n",
       "      <td>-0.014557</td>\n",
       "      <td>0.038932</td>\n",
       "      <td>-0.010072</td>\n",
       "      <td>0.001253</td>\n",
       "    </tr>\n",
       "    <tr>\n",
       "      <th>56626</th>\n",
       "      <td>2021-12-31 14:59:00</td>\n",
       "      <td>7.654492</td>\n",
       "      <td>7.765917</td>\n",
       "      <td>52</td>\n",
       "      <td>-0.014557</td>\n",
       "      <td>0.038932</td>\n",
       "      <td>-0.010072</td>\n",
       "      <td>0.001253</td>\n",
       "    </tr>\n",
       "    <tr>\n",
       "      <th>56627</th>\n",
       "      <td>2021-12-31 15:00:00</td>\n",
       "      <td>7.652921</td>\n",
       "      <td>7.765917</td>\n",
       "      <td>52</td>\n",
       "      <td>-0.014765</td>\n",
       "      <td>0.038932</td>\n",
       "      <td>-0.010072</td>\n",
       "      <td>0.001253</td>\n",
       "    </tr>\n",
       "  </tbody>\n",
       "</table>\n",
       "<p>55660 rows × 8 columns</p>\n",
       "</div>"
      ],
      "text/plain": [
       "                      time         A         H  week_num        DR  \\\n",
       "968    2021-01-08 09:30:00  7.031742  6.780212         2  0.035771   \n",
       "969    2021-01-08 09:31:00  7.040792  6.751853         2  0.041038   \n",
       "970    2021-01-08 09:32:00  7.003084  6.741541         2  0.037347   \n",
       "971    2021-01-08 09:33:00  7.043809  6.764743         2  0.039619   \n",
       "972    2021-01-08 09:34:00  7.058892  6.758298         2  0.042584   \n",
       "...                    ...       ...       ...       ...       ...   \n",
       "56623  2021-12-31 14:56:00  7.659205  7.765917        52 -0.013932   \n",
       "56624  2021-12-31 14:57:00  7.654492  7.765917        52 -0.014557   \n",
       "56625  2021-12-31 14:58:00  7.654492  7.765917        52 -0.014557   \n",
       "56626  2021-12-31 14:59:00  7.654492  7.765917        52 -0.014557   \n",
       "56627  2021-12-31 15:00:00  7.652921  7.765917        52 -0.014765   \n",
       "\n",
       "       return_speed      mean       std  \n",
       "968        0.007118  0.041558  0.001835  \n",
       "969        0.007118  0.041558  0.001835  \n",
       "970        0.007118  0.041558  0.001835  \n",
       "971        0.007118  0.041558  0.001835  \n",
       "972        0.007118  0.041558  0.001835  \n",
       "...             ...       ...       ...  \n",
       "56623      0.038932 -0.010072  0.001253  \n",
       "56624      0.038932 -0.010072  0.001253  \n",
       "56625      0.038932 -0.010072  0.001253  \n",
       "56626      0.038932 -0.010072  0.001253  \n",
       "56627      0.038932 -0.010072  0.001253  \n",
       "\n",
       "[55660 rows x 8 columns]"
      ]
     },
     "execution_count": 65,
     "metadata": {},
     "output_type": "execute_result"
    }
   ],
   "source": [
    "# df_test['DR'] \n",
    "# pd.DataFrame([week_list[1:],ou_weekly[ou_weekly[:,0]!=0,:][:-1]]).T\n",
    "df_temp = pd.DataFrame(ou_weekly[ou_weekly[:,0]!=0,1:][:-1])\n",
    "df_temp.columns=['return_speed','mean','std']\n",
    "df_temp['week_num'] = week_list[1:]\n",
    "pd.merge(df_test, df_temp, on='week_num',how='left').dropna()"
   ]
  },
  {
   "cell_type": "code",
   "execution_count": 37,
   "metadata": {},
   "outputs": [
    {
     "data": {
      "text/plain": [
       "array([1.        , 0.05907248, 0.01186336, 0.00169484])"
      ]
     },
     "execution_count": 37,
     "metadata": {},
     "output_type": "execute_result"
    }
   ],
   "source": [
    "ou_weekly[41]"
   ]
  },
  {
   "cell_type": "code",
   "execution_count": 70,
   "metadata": {},
   "outputs": [
    {
     "name": "stderr",
     "output_type": "stream",
     "text": [
      "/Users/kuzaowuwei/Documents/GitHub/QunatPlayground/src/Stock/Stock.py:29: SettingWithCopyWarning: \n",
      "A value is trying to be set on a copy of a slice from a DataFrame.\n",
      "Try using .loc[row_indexer,col_indexer] = value instead\n",
      "\n",
      "See the caveats in the documentation: https://pandas.pydata.org/pandas-docs/stable/user_guide/indexing.html#returning-a-view-versus-a-copy\n",
      "  self.df_AH['DR'] =1 - (self.df_AH['H'])/self.df_AH['A']\n",
      "/Users/kuzaowuwei/Documents/GitHub/QunatPlayground/src/Stock/Stock.py:70: SettingWithCopyWarning: \n",
      "A value is trying to be set on a copy of a slice from a DataFrame.\n",
      "Try using .loc[row_indexer,col_indexer] = value instead\n",
      "\n",
      "See the caveats in the documentation: https://pandas.pydata.org/pandas-docs/stable/user_guide/indexing.html#returning-a-view-versus-a-copy\n",
      "  self.df_AH['H_adjust'] = H\n",
      "/Users/kuzaowuwei/Documents/GitHub/QunatPlayground/src/Stock/Stock.py:71: SettingWithCopyWarning: \n",
      "A value is trying to be set on a copy of a slice from a DataFrame.\n",
      "Try using .loc[row_indexer,col_indexer] = value instead\n",
      "\n",
      "See the caveats in the documentation: https://pandas.pydata.org/pandas-docs/stable/user_guide/indexing.html#returning-a-view-versus-a-copy\n",
      "  self.df_AH['DR_adjust'] = 1 - self.df_AH['H_adjust']/self.df_AH['A']\n"
     ]
    },
    {
     "data": {
      "image/png": "[encoded data removed]",
      "text/plain": [
       "<Figure size 432x288 with 2 Axes>"
      ]
     },
     "metadata": {
      "needs_background": "light"
     },
     "output_type": "display_data"
    },
    {
     "data": {
      "text/html": [
       "<div>\n",
       "<style scoped>\n",
       "    .dataframe tbody tr th:only-of-type {\n",
       "        vertical-align: middle;\n",
       "    }\n",
       "\n",
       "    .dataframe tbody tr th {\n",
       "        vertical-align: top;\n",
       "    }\n",
       "\n",
       "    .dataframe thead th {\n",
       "        text-align: right;\n",
       "    }\n",
       "</style>\n",
       "<table border=\"1\" class=\"dataframe\">\n",
       "  <thead>\n",
       "    <tr style=\"text-align: right;\">\n",
       "      <th></th>\n",
       "      <th>0</th>\n",
       "      <th>1</th>\n",
       "      <th>2</th>\n",
       "      <th>3</th>\n",
       "    </tr>\n",
       "  </thead>\n",
       "  <tbody>\n",
       "    <tr>\n",
       "      <th>0</th>\n",
       "      <td>100.000000</td>\n",
       "      <td>0.0</td>\n",
       "      <td>0.0</td>\n",
       "      <td>6.755803</td>\n",
       "    </tr>\n",
       "    <tr>\n",
       "      <th>1</th>\n",
       "      <td>99.581749</td>\n",
       "      <td>0.0</td>\n",
       "      <td>1.0</td>\n",
       "      <td>6.727547</td>\n",
       "    </tr>\n",
       "    <tr>\n",
       "      <th>2</th>\n",
       "      <td>99.223255</td>\n",
       "      <td>0.0</td>\n",
       "      <td>0.0</td>\n",
       "      <td>6.717272</td>\n",
       "    </tr>\n",
       "    <tr>\n",
       "      <th>3</th>\n",
       "      <td>99.223255</td>\n",
       "      <td>0.0</td>\n",
       "      <td>0.0</td>\n",
       "      <td>6.740390</td>\n",
       "    </tr>\n",
       "    <tr>\n",
       "      <th>4</th>\n",
       "      <td>99.223255</td>\n",
       "      <td>0.0</td>\n",
       "      <td>0.0</td>\n",
       "      <td>6.733968</td>\n",
       "    </tr>\n",
       "    <tr>\n",
       "      <th>...</th>\n",
       "      <td>...</td>\n",
       "      <td>...</td>\n",
       "      <td>...</td>\n",
       "      <td>...</td>\n",
       "    </tr>\n",
       "    <tr>\n",
       "      <th>55655</th>\n",
       "      <td>23.497534</td>\n",
       "      <td>0.0</td>\n",
       "      <td>0.0</td>\n",
       "      <td>7.793874</td>\n",
       "    </tr>\n",
       "    <tr>\n",
       "      <th>55656</th>\n",
       "      <td>23.497534</td>\n",
       "      <td>0.0</td>\n",
       "      <td>0.0</td>\n",
       "      <td>7.793874</td>\n",
       "    </tr>\n",
       "    <tr>\n",
       "      <th>55657</th>\n",
       "      <td>23.497534</td>\n",
       "      <td>0.0</td>\n",
       "      <td>0.0</td>\n",
       "      <td>7.793874</td>\n",
       "    </tr>\n",
       "    <tr>\n",
       "      <th>55658</th>\n",
       "      <td>23.497534</td>\n",
       "      <td>0.0</td>\n",
       "      <td>0.0</td>\n",
       "      <td>7.793874</td>\n",
       "    </tr>\n",
       "    <tr>\n",
       "      <th>55659</th>\n",
       "      <td>23.497534</td>\n",
       "      <td>0.0</td>\n",
       "      <td>0.0</td>\n",
       "      <td>7.793874</td>\n",
       "    </tr>\n",
       "  </tbody>\n",
       "</table>\n",
       "<p>55660 rows × 4 columns</p>\n",
       "</div>"
      ],
      "text/plain": [
       "                0    1    2         3\n",
       "0      100.000000  0.0  0.0  6.755803\n",
       "1       99.581749  0.0  1.0  6.727547\n",
       "2       99.223255  0.0  0.0  6.717272\n",
       "3       99.223255  0.0  0.0  6.740390\n",
       "4       99.223255  0.0  0.0  6.733968\n",
       "...           ...  ...  ...       ...\n",
       "55655   23.497534  0.0  0.0  7.793874\n",
       "55656   23.497534  0.0  0.0  7.793874\n",
       "55657   23.497534  0.0  0.0  7.793874\n",
       "55658   23.497534  0.0  0.0  7.793874\n",
       "55659   23.497534  0.0  0.0  7.793874\n",
       "\n",
       "[55660 rows x 4 columns]"
      ]
     },
     "execution_count": 70,
     "metadata": {},
     "output_type": "execute_result"
    }
   ],
   "source": [
    "from Stock import Stock\n",
    "\"\"\"\n",
    "Evaluate the result \n",
    "\"\"\"\n",
    "stock1 = Stock('招商银行',df_AH=df_AH[['time','招商银行','招商银行.1','week_num']],week=True)\n",
    "# stock2 = Stock('工商银行',df_AH=df_AH[['工商银行','工商银行.1']])\n",
    "# stock3 = Stock('农业银行',df_AH=df_AH[['农业银行','农业银行.1']])\n",
    "\n",
    "stock1.trading_rule(show_transaction=True,show_time=1)\n"
   ]
  },
  {
   "cell_type": "code",
   "execution_count": 14,
   "metadata": {},
   "outputs": [
    {
     "name": "stdout",
     "output_type": "stream",
     "text": [
      "   0  1\n",
      "0  1  2\n",
      "1  2  2\n",
      "2  3  3\n",
      "3  4  4\n"
     ]
    }
   ],
   "source": [
    "import pandas as pd\n",
    "v1 = np.array([1,2,3,4])\n",
    "v2 = np.array([2,2,3,4])\n",
    "t = pd.DataFrame([v1,v2]).T\n",
    "print(t)"
   ]
  },
  {
   "cell_type": "code",
   "execution_count": 9,
   "metadata": {},
   "outputs": [
    {
     "name": "stdout",
     "output_type": "stream",
     "text": [
      "[[1 2 3]\n",
      " [1 2 3]]\n",
      "[[1 1]\n",
      " [2 2]\n",
      " [3 3]]\n"
     ]
    }
   ],
   "source": [
    "import numpy as np\n",
    "print(np.array([[1,2,3],[1,2,3]]))\n",
    "print(np.array([[1,2,3],[1,2,3]]).T)"
   ]
  },
  {
   "cell_type": "code",
   "execution_count": 15,
   "metadata": {},
   "outputs": [
    {
     "data": {
      "text/plain": [
       "array([ 1,  0, -1])"
      ]
     },
     "execution_count": 15,
     "metadata": {},
     "output_type": "execute_result"
    }
   ],
   "source": [
    "import numpy as np\n",
    "np.array([1,0,0]) + np.array([0,0,-1])"
   ]
  },
  {
   "cell_type": "code",
   "execution_count": 18,
   "metadata": {},
   "outputs": [],
   "source": [
    "import pandas as pd\n",
    "df = pd.DataFrame([[1,2,3],[2,3,4]]).T"
   ]
  },
  {
   "cell_type": "code",
   "execution_count": 21,
   "metadata": {},
   "outputs": [
    {
     "data": {
      "text/plain": [
       "(3,)"
      ]
     },
     "execution_count": 21,
     "metadata": {},
     "output_type": "execute_result"
    }
   ],
   "source": [
    "df[0].values.shape"
   ]
  },
  {
   "cell_type": "code",
   "execution_count": 22,
   "metadata": {},
   "outputs": [
    {
     "data": {
      "image/png": "[encoded data removed]",
      "text/plain": [
       "<Figure size 432x288 with 1 Axes>"
      ]
     },
     "metadata": {
      "needs_background": "light"
     },
     "output_type": "display_data"
    },
    {
     "data": {
      "text/plain": [
       "<function matplotlib.pyplot.close(fig=None)>"
      ]
     },
     "execution_count": 22,
     "metadata": {},
     "output_type": "execute_result"
    }
   ],
   "source": [
    "import matplotlib.pyplot as plt\n",
    "plt.plot()\n",
    "plt.pause(2)\n",
    "plt.close"
   ]
  },
  {
   "cell_type": "code",
   "execution_count": null,
   "metadata": {},
   "outputs": [],
   "source": []
  }
 ],
 "metadata": {
  "interpreter": {
   "hash": "9ce4fd1792a08c55004df13a80be1ff164ae085b96fe91a2e77954f1292bca6d"
  },
  "kernelspec": {
   "display_name": "Python 3.7.4 ('base')",
   "language": "python",
   "name": "python3"
  },
  "language_info": {
   "codemirror_mode": {
    "name": "ipython",
    "version": 3
   },
   "file_extension": ".py",
   "mimetype": "text/x-python",
   "name": "python",
   "nbconvert_exporter": "python",
   "pygments_lexer": "ipython3",
   "version": "3.7.4"
  },
  "orig_nbformat": 4
 },
 "nbformat": 4,
 "nbformat_minor": 2
}
