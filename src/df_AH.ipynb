{
 "cells": [
  {
   "cell_type": "code",
   "execution_count": 1,
   "metadata": {},
   "outputs": [],
   "source": [
    "import pandas as pd\n",
    "import tushare as ts\n",
    "import numpy as np\n",
    "import matplotlib.pyplot as plt\n",
    "\"\"\"\n",
    "Read data\n",
    "\"\"\"\n",
    "input_path = '../data/三家银行A H分钟收盘价.xlsx'\n",
    "df_input = pd.read_excel(input_path,converters={'600036.SH':str, '3968.HK':str})"
   ]
  },
  {
   "cell_type": "code",
   "execution_count": 2,
   "metadata": {},
   "outputs": [],
   "source": [
    "\"\"\"\n",
    "Seperate date and time\n",
    "\"\"\"\n",
    "df_AH= pd.merge(df_input[['600036.SH', '招商银行','工商银行','农业银行']].drop([0,1]).dropna(), \\\n",
    "    df_input[['3968.HK','招商银行.1','工商银行.1','农业银行.1']].drop([0,1]).dropna(), \\\n",
    "        how='inner',left_on='600036.SH', right_on='3968.HK').drop('3968.HK',axis=1).rename(columns= {'600036.SH':'date'})\n",
    "df_date = df_AH['date'].str.split(' ',expand=True).rename(columns={0:'date', 1:'time'})\n",
    "df_AH['time'] = df_AH['date'].copy()\n",
    "df_AH['date'] = df_date['date'].str.replace('-','')\n",
    "df_AH[['招商银行','工商银行','农业银行','招商银行.1','工商银行.1','农业银行.1']] = df_AH[['招商银行','工商银行','农业银行','招商银行.1','工商银行.1','农业银行.1']].astype(float)\n",
    "\n",
    "\"\"\"\n",
    "Exchange rate\n",
    "    -convert to USD\n",
    "    -use daily exchange to match stock price\n",
    "\"\"\"\n",
    "pro = ts.pro_api('00d803b166f55fc30c178d74c158985136010d6bd19271b182059eef')\n",
    "start_date = '2021-01-04'\n",
    "end_date = '2022-02-25'\n",
    "df_CNY = pro.fx_daily(ts_code='USDCNH.FXCM', start_date=start_date, end_date=end_date).iloc[::-1].reset_index(drop=True)\n",
    "df_HKD = pro.fx_daily(ts_code='USDHKD.FXCM', start_date=start_date, end_date=end_date).iloc[::-1].reset_index(drop=True)\n",
    "ER_feature_list = ['trade_date', 'ask_close']\n",
    "# Exchage Rate\n",
    "df_ER = df_CNY[ER_feature_list].rename(columns={'ask_close':'CNY2USD'}).merge(df_HKD[ER_feature_list].rename(columns={'ask_close':'HKD2USD'}))\n",
    "df_AH = pd.merge(df_AH, df_ER, left_on='date', right_on='trade_date', how='left').dropna().drop('trade_date',axis=1)\n",
    "\"\"\"\n",
    "Uniform the measuring unit to USD\n",
    "\"\"\"\n",
    "df_AH['招商银行'] = df_AH['招商银行'] / df_AH['CNY2USD']\n",
    "df_AH['招商银行.1'] = df_AH['招商银行.1'] / df_AH['HKD2USD']\n",
    "df_AH['工商银行'] = df_AH['工商银行'] / df_AH['CNY2USD']\n",
    "df_AH['工商银行.1'] = df_AH['工商银行.1'] / df_AH['HKD2USD']\n",
    "df_AH['农业银行'] = df_AH['农业银行'] / df_AH['CNY2USD']\n",
    "df_AH['农业银行.1'] = df_AH['农业银行.1'] / df_AH['HKD2USD']"
   ]
  },
  {
   "cell_type": "code",
   "execution_count": 3,
   "metadata": {},
   "outputs": [],
   "source": [
    "\"\"\"\n",
    "Save the preprocessed data\n",
    "\"\"\"\n",
    "df_AH.to_excel('../data/df_AH.xlsx')"
   ]
  }
 ],
 "metadata": {
  "interpreter": {
   "hash": "9ce4fd1792a08c55004df13a80be1ff164ae085b96fe91a2e77954f1292bca6d"
  },
  "kernelspec": {
   "display_name": "Python 3.7.4 ('base')",
   "language": "python",
   "name": "python3"
  },
  "language_info": {
   "codemirror_mode": {
    "name": "ipython",
    "version": 3
   },
   "file_extension": ".py",
   "mimetype": "text/x-python",
   "name": "python",
   "nbconvert_exporter": "python",
   "pygments_lexer": "ipython3",
   "version": "3.7.4"
  },
  "orig_nbformat": 4
 },
 "nbformat": 4,
 "nbformat_minor": 2
}
