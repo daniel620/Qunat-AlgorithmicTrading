{
 "cells": [
  {
   "cell_type": "code",
   "execution_count": 1,
   "metadata": {},
   "outputs": [],
   "source": [
    "import pandas as pd\n",
    "import tushare as ts\n",
    "import numpy as np\n",
    "import matplotlib.pyplot as plt\n",
    "input_path1 = '../data/df_AH.xlsx'\n",
    "input_path2 = '../data/date2week.xlsx'\n",
    "output_path = '../data/df_AH_week.xlsx'\n",
    "df_AH = pd.read_excel(input_path1)\n",
    "df_AH = df_AH.drop(df_AH.keys()[0],axis=1)\n",
    "df_date2week = pd.read_excel(input_path2)"
   ]
  },
  {
   "cell_type": "code",
   "execution_count": 2,
   "metadata": {},
   "outputs": [],
   "source": [
    "df_AH_week = pd.merge(df_AH, df_date2week, on='date', how='left')\n",
    "df_AH_week.to_excel(output_path)"
   ]
  }
 ],
 "metadata": {
  "interpreter": {
   "hash": "9ce4fd1792a08c55004df13a80be1ff164ae085b96fe91a2e77954f1292bca6d"
  },
  "kernelspec": {
   "display_name": "Python 3.7.4 ('base')",
   "language": "python",
   "name": "python3"
  },
  "language_info": {
   "codemirror_mode": {
    "name": "ipython",
    "version": 3
   },
   "file_extension": ".py",
   "mimetype": "text/x-python",
   "name": "python",
   "nbconvert_exporter": "python",
   "pygments_lexer": "ipython3",
   "version": "3.7.4"
  },
  "orig_nbformat": 4
 },
 "nbformat": 4,
 "nbformat_minor": 2
}
